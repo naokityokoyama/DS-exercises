{
  "nbformat": 4,
  "nbformat_minor": 0,
  "metadata": {
    "anaconda-cloud": {},
    "kernelspec": {
      "display_name": "Python [conda env:udacity-update]",
      "language": "python",
      "name": "conda-env-udacity-update-py"
    },
    "language_info": {
      "codemirror_mode": {
        "name": "ipython",
        "version": 3
      },
      "file_extension": ".py",
      "mimetype": "text/x-python",
      "name": "python",
      "nbconvert_exporter": "python",
      "pygments_lexer": "ipython3",
      "version": "3.7.7"
    },
    "colab": {
      "name": "Projeto - Python com SQLite.ipynb",
      "provenance": [],
      "collapsed_sections": [],
      "include_colab_link": true
    }
  },
  "cells": [
    {
      "cell_type": "markdown",
      "metadata": {
        "id": "view-in-github",
        "colab_type": "text"
      },
      "source": [
        "<a href=\"https://colab.research.google.com/github/naokityokoyama/DS-exercises/blob/master/Projeto_Python_com_SQLite.ipynb\" target=\"_parent\"><img src=\"https://colab.research.google.com/assets/colab-badge.svg\" alt=\"Open In Colab\"/></a>"
      ]
    },
    {
      "cell_type": "markdown",
      "metadata": {
        "id": "oNgAZEyGXycS"
      },
      "source": [
        "# Awari - Data Science\n",
        "\n",
        "## Projeto - Python com SQLite\n",
        "\n",
        "## 1. Considerações iniciais\n",
        "\n",
        "Para que você assimile melhor os comandos do SQL, preparamos este projeto de Python com SQLite. Neste notebook Jupyter, você irá reforçando alguns conceitos da unidade atual e deverá executar algumas tarefas pelo caminho. Todo o projeto deve ser executado neste Jupyter Notebook. Por fim, se desejar, revise as respostas com o seu mentor.\n",
        "\n",
        "### 1.1. Por que SQLite?\n",
        "O SQLite é uma pequena biblioteca em C que possui um banco de dados SQL embutido. Sem o apoio de um poderoso SGDB (Sistema de Gerenciamento de Banco de Dados) como nas soluções do mercado, o SQLite é ideal para fins de aprendizagem, pois sua instalação é fácil e não requer nenhuma configuração inicial. Deste modo, podemos focar nos comandos do SQL.\n",
        "\n",
        "### 1.2. Prepare seu ambiente\n",
        "Baixe e instale o SQLite antes de começar. Resumidamente, você irá acessar a página de [Downloads](https://www.sqlite.org/download.html) do SQLite e baixar os executáveis para a mesma pasta deste notebook. Caso você encontre dificuldades:\n",
        "\n",
        "- Assista a este [vídeo](https://www.youtube.com/watch?v=VcKKt6OTlJc) para \"instalar\" o SQLite no Windows ou;\n",
        "- Ou siga este [manual](http://www.devfuria.com.br/linux/instalando-sqlite/) para as plataformas Linux.\n",
        "\n",
        "### 1.3. Conjunto de dados\n",
        "\n",
        "O conjunto de dados que iremos utilizar é derivado do [Titanic](https://www.kaggle.com/c/titanic/data). Na verdade, dividimos o conjunto em dois arquivos CSV - [passageiros](passageiros.csv) e [passagens](passagens.csv). Cada um destes arquivo serão inseridos dentro do SQLite como tabelas, onde você executará suas consultas SQL.\n",
        "\n",
        "#### 1.3.1. Descrição do dados\n",
        "\n",
        "No arquivo [passageiros](passageiros.csv), você encontrará:\n",
        "- PassengerId: Id do passageiro\n",
        "- Survived: Se o passageiro sobreviveu ou não. Se 0, então não sobreviveu. Se 1, sobreviveu.\n",
        "- Pclass: Classe em que o passageiro estava viajando. Se 1, então estava na primeira classe e assim por diante.\n",
        "- Name: Nome do passageiro.\n",
        "- Sex: Gênero do passageiro. Masculino ou feminino.\n",
        "- Age: Idade.\n",
        "- Sibsp: número de irmãos / esposas a bordo do navio.\n",
        "- Parch: número de pais / filhos a bordo do navio.\n",
        "\n",
        "E no arquivo [passagens](passagens.csv):\n",
        "- PassengerId: Id do passageiro\n",
        "- Ticket: número do ticket de embarque\n",
        "- Fare: valor pago pelo ticket.\n",
        "- Cabin: cabine do passageiro.\n",
        "- Embarked: porto de embarque do passageiro. C = Cherbourg, Q = Queenstown e S = Southampton\n"
      ]
    },
    {
      "cell_type": "markdown",
      "metadata": {
        "id": "gkArn7GsXycT"
      },
      "source": [
        "## 2. Procedimentos\n",
        "\n",
        "### 2.1. Leitura dos arquivos CSV\n",
        "Antes de importarmos os dados dentro das tabelas, precisamos começar lendo os arquivos CSV. O pequeno código abaixo importa os dados do CSV em uma lista de dicionários em Python."
      ]
    },
    {
      "cell_type": "code",
      "metadata": {
        "id": "Miay66jKXycT"
      },
      "source": [
        "import csv \n",
        "\n",
        "def importar_csv(arquivo):\n",
        "    dados = []\n",
        "    with open(arquivo) as arq:\n",
        "        leitor = csv.DictReader(arq)\n",
        "        for l in leitor:\n",
        "            dados.append(dict(l))\n",
        "    \n",
        "    print('O conjunto de dados tem %s registros.' % len(dados))\n",
        "    \n",
        "    return dados"
      ],
      "execution_count": null,
      "outputs": []
    },
    {
      "cell_type": "code",
      "metadata": {
        "colab": {
          "base_uri": "https://localhost:8080/"
        },
        "id": "34URSG82YVJM",
        "outputId": "97aa07a9-653c-4523-e1b6-2c516071d376"
      },
      "source": [
        "!pip install db-sqlite3"
      ],
      "execution_count": null,
      "outputs": [
        {
          "output_type": "stream",
          "text": [
            "Collecting db-sqlite3\n",
            "  Downloading https://files.pythonhosted.org/packages/ff/00/e1f3d7bf1e0bff7c0574c0d5535c041e139d4ce43db196147e4c62f52ed5/db-sqlite3-0.0.1.tar.gz\n",
            "Collecting db\n",
            "  Downloading https://files.pythonhosted.org/packages/a9/22/f65d64c83e63790b3273c6adb3bff338ad594f46d84b41bd1f94593b40a6/db-0.1.1.tar.gz\n",
            "Collecting antiorm\n",
            "\u001b[?25l  Downloading https://files.pythonhosted.org/packages/0b/f8/71baa4824d9666c1be51d117119579a97f461ddbded48b2e01a6ad0554b5/antiorm-1.2.1.tar.gz (171kB)\n",
            "\u001b[K     |████████████████████████████████| 174kB 7.2MB/s \n",
            "\u001b[?25hBuilding wheels for collected packages: db-sqlite3, db, antiorm\n",
            "  Building wheel for db-sqlite3 (setup.py) ... \u001b[?25l\u001b[?25hdone\n",
            "  Created wheel for db-sqlite3: filename=db_sqlite3-0.0.1-cp36-none-any.whl size=1797 sha256=2db1962cf35a380a013032dc44f8e0dbb6917b70312453074294b26c37233b31\n",
            "  Stored in directory: /root/.cache/pip/wheels/e0/f8/cb/08e3a3a63bdea9ac3a0cccd140636b6cf94e3fb7df1070b12e\n",
            "  Building wheel for db (setup.py) ... \u001b[?25l\u001b[?25hdone\n",
            "  Created wheel for db: filename=db-0.1.1-cp36-none-any.whl size=3894 sha256=e975ccb5cfe0074302b1b1846928ec80c0c42a70ffc43f2f83aec6a54496ce45\n",
            "  Stored in directory: /root/.cache/pip/wheels/30/eb/ba/237fa002d1d1b2e73cedcefd26a9db37c4b72c7e5156ea0501\n",
            "  Building wheel for antiorm (setup.py) ... \u001b[?25l\u001b[?25hdone\n",
            "  Created wheel for antiorm: filename=antiorm-1.2.1-cp36-none-any.whl size=31664 sha256=11cce32186722979d99a06991d05bca566ab0e596d637bed42887875bef78bb4\n",
            "  Stored in directory: /root/.cache/pip/wheels/b0/91/4d/f8fe808786ff1cda9e7e99e1b1bbda9196ab26786017965313\n",
            "Successfully built db-sqlite3 db antiorm\n",
            "Installing collected packages: antiorm, db, db-sqlite3\n",
            "Successfully installed antiorm-1.2.1 db-0.1.1 db-sqlite3-0.0.1\n"
          ],
          "name": "stdout"
        }
      ]
    },
    {
      "cell_type": "markdown",
      "metadata": {
        "id": "oPUCHm6PXycU"
      },
      "source": [
        "### TAREFA 01\n",
        "\n",
        "1. Importe o arquivo passagens.csv usando o mesmo código anterior.\n",
        "2. Atualize as partes contendo `...` com o que falta no seu código\n",
        "\n",
        "**DICA**: Não reinvente a roda, reutilize a função anterior."
      ]
    },
    {
      "cell_type": "code",
      "metadata": {
        "colab": {
          "base_uri": "https://localhost:8080/"
        },
        "id": "xyxazaQwXycU",
        "outputId": "6f8210ae-4d60-4556-ccc0-055f34edd575"
      },
      "source": [
        "# Insira seu código aqui\n",
        "passagens = importar_csv('/content/passagens.csv')"
      ],
      "execution_count": null,
      "outputs": [
        {
          "output_type": "stream",
          "text": [
            "O conjunto de dados tem 891 registros.\n"
          ],
          "name": "stdout"
        }
      ]
    },
    {
      "cell_type": "markdown",
      "metadata": {
        "id": "5tAV4RLYXycV"
      },
      "source": [
        "### TAREFA 02\n",
        "1. Importe o arquivo passageiros.csv usando o mesmo código anterior."
      ]
    },
    {
      "cell_type": "code",
      "metadata": {
        "colab": {
          "base_uri": "https://localhost:8080/"
        },
        "id": "F_siL7zgXycV",
        "outputId": "8cd57ece-f473-4b68-cab1-889955b50655"
      },
      "source": [
        "# Insira seu código aqui\n",
        "passageiros = importar_csv('/content/passageiros.csv')"
      ],
      "execution_count": null,
      "outputs": [
        {
          "output_type": "stream",
          "text": [
            "O conjunto de dados tem 891 registros.\n"
          ],
          "name": "stdout"
        }
      ]
    },
    {
      "cell_type": "markdown",
      "metadata": {
        "id": "8f27e_lqXycV"
      },
      "source": [
        "### 2.2. Criando o banco de dados\n",
        "Para manipular um banco SQLite com Python, temos que utilizar uma biblioteca específica."
      ]
    },
    {
      "cell_type": "code",
      "metadata": {
        "id": "oLLXVQ5uXycV"
      },
      "source": [
        "import sqlite3\n",
        "conn = sqlite3.connect('titanic.db')"
      ],
      "execution_count": null,
      "outputs": []
    },
    {
      "cell_type": "markdown",
      "metadata": {
        "id": "PGnQ1T8QXycV"
      },
      "source": [
        "O comando acima cria o arquivo [titanic.db](titanic.db), que armazará nossos dados."
      ]
    },
    {
      "cell_type": "markdown",
      "metadata": {
        "id": "TKLRZu5iXycV"
      },
      "source": [
        "### 2.3. Criando as tabelas\n",
        "Neste momento, temos do dados e o banco SQLlite. Então é hora de começar à usar comandos SQL para criar as tabelas que armazenarão nossos dados dentro do banco.\n",
        "\n",
        "No SQLlite, precisamos primeiro criar uma conexão e um cursor para executar nossos comandos no banco. Para facilicar, o código abaixo facilita este processo. Você só precisa passar seu comando SQL para a função."
      ]
    },
    {
      "cell_type": "code",
      "metadata": {
        "id": "bDKGFHQcXycW"
      },
      "source": [
        "def executa(comando):\n",
        "    cursor = conn.cursor()\n",
        "    cursor.execute(comando)\n",
        "    cursor.close()"
      ],
      "execution_count": null,
      "outputs": []
    },
    {
      "cell_type": "markdown",
      "metadata": {
        "id": "4S95ZrVWXycW"
      },
      "source": [
        "Não execute o comando abaixo, pois ele dá um erro. É só um exemplo"
      ]
    },
    {
      "cell_type": "code",
      "metadata": {
        "id": "DcE8PX9BXycW"
      },
      "source": [
        "# Exemplo\n",
        "#comando = '<SEU_COMANDO_AQUI>'\n",
        "#executa(comando)"
      ],
      "execution_count": null,
      "outputs": []
    },
    {
      "cell_type": "markdown",
      "metadata": {
        "id": "nM4WOcY0XycW"
      },
      "source": [
        "### TAREFA 03\n",
        "1. Cria a tabela passageiros.\n",
        "2. PassengerId deve ser a chave primária.\n",
        "3. Atualize as partes contendo `...` com o que falta no seu código"
      ]
    },
    {
      "cell_type": "code",
      "metadata": {
        "id": "Gnd9oVNwXycW"
      },
      "source": [
        "# Insira seu código aqui\n",
        "tabela_passageiros_comando = \"\"\"\n",
        "CREATE TABLE passageiros(\n",
        "  PassengerId INTEGER NOT NULL PRIMARY KEY, \n",
        "  Survived INTEGER NOT NULL, \n",
        "  Pclass INTEGER NOT NULL, \n",
        "  Name VARCHAR(200), \n",
        "  Sex VARCHAR(20), \n",
        "  Age INTEGER, \n",
        "  SibSp INTEGER, \n",
        "  Parch INTEGER);\n",
        "\"\"\""
      ],
      "execution_count": null,
      "outputs": []
    },
    {
      "cell_type": "code",
      "metadata": {
        "id": "_JMRN6H0XycW"
      },
      "source": [
        "executa(tabela_passageiros_comando)"
      ],
      "execution_count": null,
      "outputs": []
    },
    {
      "cell_type": "markdown",
      "metadata": {
        "id": "eaIXjz_EXycW"
      },
      "source": [
        "### TAREFA 04\n",
        "1. Cria a tabela passagens.\n",
        "2. PassengerId deve ser a chave primária.\n",
        "3. Atualize as partes contendo `...` com o que falta no seu código"
      ]
    },
    {
      "cell_type": "code",
      "metadata": {
        "id": "soeFXq_RXycW"
      },
      "source": [
        "# Insira seu código aqui\n",
        "tabela_passagens_comando = \"\"\"\n",
        "CREATE TABLE passagens(\n",
        "  PassengerId INTEGER NOT NULL PRIMARY KEY, \n",
        "  Ticket VARCHAR(200), \n",
        "  Fare DECIMAL(9,2), \n",
        "  Cabin VARCHAR(20),  \n",
        "  Embarked VARCHAR(5));\n",
        "\"\"\"\n"
      ],
      "execution_count": null,
      "outputs": []
    },
    {
      "cell_type": "code",
      "metadata": {
        "id": "en9OSNDKXycX"
      },
      "source": [
        "executa(tabela_passagens_comando)"
      ],
      "execution_count": null,
      "outputs": []
    },
    {
      "cell_type": "markdown",
      "metadata": {
        "id": "QgZOyoXUXycX"
      },
      "source": [
        "**Atenção:** Caso você tente executar os comandos de criação de tabelas mais de uma vez, perceberá um erro de operação informando que a tabela já existe.\n",
        "\n",
        "Vamos verificar se as tabelas foram realmente criadas? Abra o terminal e na pasta atual digite:\n",
        "```\n",
        "$ sqlite3 titanic.db \".tables\"\n",
        "```\n",
        "O terminal deve retornar com as tabelas existentes em seu banco [titanic.db](titanic.db). Neste casos, *passageiros* e *passagens*. Lembre-se que neste momento, não temos nenhum dado inseridos nas tabelas.\n",
        "\n",
        "Caso queira verifcar mais algumas informações das tabelas criadas, pode executar esta outra instrução:\n",
        "```\n",
        "$ sqlite3 titanic.db \"PRAGMA table_info(passageiros)\"\n",
        "```"
      ]
    },
    {
      "cell_type": "markdown",
      "metadata": {
        "id": "eSVLJrIeXycX"
      },
      "source": [
        "### TAREFA 05\n",
        "1. Pelo terminal, verifique mais informações da tabela passagens."
      ]
    },
    {
      "cell_type": "markdown",
      "metadata": {
        "id": "s71uW99yXycX"
      },
      "source": [
        "### 2.4. Inserindo dados nas tabelas\n",
        "Usando o comando INSERT INTO, vamos popular as nossas tabelas. O processo é simples, percorremos as listas de dicionários, montamos nosso comando INSERT INTO e executamos - uma a uma. Para a tabela passageiros:"
      ]
    },
    {
      "cell_type": "code",
      "metadata": {
        "id": "z6gbhOHJXycX"
      },
      "source": [
        "for p in passageiros:\n",
        "    p['Name'] = p['Name'].replace('\"', \"'\")\n",
        "    inserir_passageiro = (\"\"\"\n",
        "    INSERT INTO passageiros(PassengerId, Survived, Pclass, Name, Sex, Age, Sibsp, Parch)\n",
        "    VALUES (%s, \"%s\", \"%s\", \"%s\", \"%s\", \"%s\", \"%s\", \"%s\")\"\"\") % (p['PassengerId'], p['Survived'], p['Pclass'],\n",
        "                                                                 p['Name'], p['Sex'], p['Age'], p['SibSp'],\n",
        "                                                                 p['Parch'])\n",
        "    executa(inserir_passageiro)"
      ],
      "execution_count": null,
      "outputs": []
    },
    {
      "cell_type": "markdown",
      "metadata": {
        "id": "0WrnTdYJXycX"
      },
      "source": [
        "### TAREFA 06\n",
        "1. Insira os dados de passagens dentro da tabela passagens"
      ]
    },
    {
      "cell_type": "code",
      "metadata": {
        "id": "tDPQxFLgXycY"
      },
      "source": [
        "# Insira seu código aqui\n",
        "for p in passagens:\n",
        "    inserir_passagens = (\"\"\"\n",
        "    INSERT INTO passagens(PassengerId, Ticket, Fare, Cabin, Embarked)\n",
        "    VALUES (%s, \"%s\", \"%s\", \"%s\", \"%s\")\"\"\") % (p['PassengerId'], p['Ticket'], p['Fare'], \n",
        "                                               p['Cabin'], p['Embarked'])\n",
        "    executa(inserir_passagens)"
      ],
      "execution_count": null,
      "outputs": []
    },
    {
      "cell_type": "markdown",
      "metadata": {
        "id": "TcvlUktTXycY"
      },
      "source": [
        "### 2.5. Executando consultas\n",
        "Agora que os dados estão inseridos no arquivo banco SQLite, vamos executar alguns consultas. Vamos começar fazendo uma seleção de todas as colunas das tabelas.\n",
        "\n",
        "O comando SELECT retorna dados, deste modo, precisamos fazer alguma alteração na função executa. utilize o *executa_consulta()*."
      ]
    },
    {
      "cell_type": "code",
      "metadata": {
        "id": "ufbfzZkGXycY"
      },
      "source": [
        "def executa_consulta(consulta):\n",
        "    cursor = conn.cursor()\n",
        "    cursor.execute(consulta)\n",
        "    for linha in cursor.fetchall():\n",
        "        print(linha)\n",
        "    \n",
        "    cursor.close()"
      ],
      "execution_count": null,
      "outputs": []
    },
    {
      "cell_type": "markdown",
      "metadata": {
        "id": "ZrPBNK8eXycY"
      },
      "source": [
        "Testando nosso código. Repare que o comando LIMIT foi utilizado para limitar a quantidade de linhas."
      ]
    },
    {
      "cell_type": "code",
      "metadata": {
        "colab": {
          "base_uri": "https://localhost:8080/"
        },
        "id": "utbIEo24XycY",
        "outputId": "e7aa3958-50ec-44d6-8027-502666b5e924"
      },
      "source": [
        "consulta_passageiro = \"\"\"SELECT * FROM PASSAGEIROS LIMIT 10\"\"\"\n",
        "executa_consulta(consulta_passageiro)"
      ],
      "execution_count": null,
      "outputs": [
        {
          "output_type": "stream",
          "text": [
            "(1, 0, 3, 'Braund, Mr. Owen Harris', 'male', 22, 1, 0)\n",
            "(2, 1, 1, 'Cumings, Mrs. John Bradley (Florence Briggs Thayer)', 'female', 38, 1, 0)\n",
            "(3, 1, 3, 'Heikkinen, Miss. Laina', 'female', 26, 0, 0)\n",
            "(4, 1, 1, 'Futrelle, Mrs. Jacques Heath (Lily May Peel)', 'female', 35, 1, 0)\n",
            "(5, 0, 3, 'Allen, Mr. William Henry', 'male', 35, 0, 0)\n",
            "(6, 0, 3, 'Moran, Mr. James', 'male', '', 0, 0)\n",
            "(7, 0, 1, 'McCarthy, Mr. Timothy J', 'male', 54, 0, 0)\n",
            "(8, 0, 3, 'Palsson, Master. Gosta Leonard', 'male', 2, 3, 1)\n",
            "(9, 1, 3, 'Johnson, Mrs. Oscar W (Elisabeth Vilhelmina Berg)', 'female', 27, 0, 2)\n",
            "(10, 1, 2, 'Nasser, Mrs. Nicholas (Adele Achem)', 'female', 14, 1, 0)\n"
          ],
          "name": "stdout"
        }
      ]
    },
    {
      "cell_type": "code",
      "metadata": {
        "colab": {
          "base_uri": "https://localhost:8080/"
        },
        "id": "hQLoDHo2XycY",
        "outputId": "efa3de19-556a-4a46-c461-792ecfdcfc4a"
      },
      "source": [
        "consulta_passagens = \"\"\"SELECT * FROM PASSAGENS LIMIT 10\"\"\"\n",
        "executa_consulta(consulta_passagens)"
      ],
      "execution_count": null,
      "outputs": [
        {
          "output_type": "stream",
          "text": [
            "(1, 'A/5 21171', 7.25, '', 'S')\n",
            "(2, 'PC 17599', 71.2833, 'C85', 'C')\n",
            "(3, 'STON/O2. 3101282', 7925, '', 'S')\n",
            "(4, '113803', 53.1, 'C123', 'S')\n",
            "(5, '373450', 8.05, '', 'S')\n",
            "(6, '330877', 8.4583, '', 'Q')\n",
            "(7, '17463', 51.8625, 'E46', 'S')\n",
            "(8, '349909', 21075, '', 'S')\n",
            "(9, '347742', 11.1333, '', 'S')\n",
            "(10, '237736', 30.0708, '', 'C')\n"
          ],
          "name": "stdout"
        }
      ]
    },
    {
      "cell_type": "markdown",
      "metadata": {
        "id": "bDAuD3D8XycY"
      },
      "source": [
        "Também podemos imprimir mais informações sobre uma tabela usando o seguinte comando:"
      ]
    },
    {
      "cell_type": "code",
      "metadata": {
        "colab": {
          "base_uri": "https://localhost:8080/"
        },
        "id": "O9eov6qFXycY",
        "outputId": "bb1df495-6749-4475-b8bf-c0344d21b092"
      },
      "source": [
        "executa_consulta('pragma table_info(passageiros)')"
      ],
      "execution_count": null,
      "outputs": [
        {
          "output_type": "stream",
          "text": [
            "(0, 'PassengerId', 'INTEGER', 1, None, 1)\n",
            "(1, 'Survived', 'INTEGER', 1, None, 0)\n",
            "(2, 'Pclass', 'INTEGER', 1, None, 0)\n",
            "(3, 'Name', 'VARCHAR(200)', 0, None, 0)\n",
            "(4, 'Sex', 'VARCHAR(20)', 0, None, 0)\n",
            "(5, 'Age', 'INTEGER', 0, None, 0)\n",
            "(6, 'SibSp', 'INTEGER', 0, None, 0)\n",
            "(7, 'Parch', 'INTEGER', 0, None, 0)\n"
          ],
          "name": "stdout"
        }
      ]
    },
    {
      "cell_type": "code",
      "metadata": {
        "colab": {
          "base_uri": "https://localhost:8080/"
        },
        "id": "Ou59gE24ePru",
        "outputId": "0abdbd9c-e3e7-431d-ff04-4cf8b62a0e02"
      },
      "source": [
        "executa_consulta('pragma table_info(passagens)')"
      ],
      "execution_count": null,
      "outputs": [
        {
          "output_type": "stream",
          "text": [
            "(0, 'PassengerId', 'INTEGER', 1, None, 1)\n",
            "(1, 'Ticket', 'VARCHAR(200)', 0, None, 0)\n",
            "(2, 'Fare', 'DECIMAL(9,2)', 0, None, 0)\n",
            "(3, 'Cabin', 'VARCHAR(20)', 0, None, 0)\n",
            "(4, 'Embarked', 'VARCHAR(5)', 0, None, 0)\n"
          ],
          "name": "stdout"
        }
      ]
    },
    {
      "cell_type": "markdown",
      "metadata": {
        "id": "3luccU-eXycY"
      },
      "source": [
        "### TAREFA 07\n",
        "1. Verifique quantos tipos de classe (PClass) existem na tabela passageiros."
      ]
    },
    {
      "cell_type": "code",
      "metadata": {
        "colab": {
          "base_uri": "https://localhost:8080/"
        },
        "id": "areasbcIXycZ",
        "outputId": "c8ea5b88-c1c5-47a4-e1f1-5d9e87feafb0"
      },
      "source": [
        "# Insira seu código aqui\n",
        "consulta = \"\"\"SELECT DISTINCT(PClass) FROM passageiros\"\"\"\n",
        "executa_consulta(consulta)"
      ],
      "execution_count": null,
      "outputs": [
        {
          "output_type": "stream",
          "text": [
            "(3,)\n",
            "(1,)\n",
            "(2,)\n"
          ],
          "name": "stdout"
        }
      ]
    },
    {
      "cell_type": "markdown",
      "metadata": {
        "id": "9wy8X65yXycZ"
      },
      "source": [
        "### TAREFA 08\n",
        "1. Selecione os passageiros do sexo masculino (Sex) e que estejam na segunda classe (PClass).\n",
        "\n",
        "**DICA**: Use a cláusula WHERE e uma condicional (AND ou OR)."
      ]
    },
    {
      "cell_type": "code",
      "metadata": {
        "colab": {
          "base_uri": "https://localhost:8080/"
        },
        "id": "xzHufbkVXycZ",
        "outputId": "df2e6954-374b-4811-a624-ccb7bf82b11f"
      },
      "source": [
        "# Insira seu código aqui\n",
        "consulta = \"\"\"SELECT * FROM  passageiros WHERE Sex='male' and PClass=2\"\"\"\n",
        "executa_consulta(consulta)"
      ],
      "execution_count": null,
      "outputs": [
        {
          "output_type": "stream",
          "text": [
            "(18, 1, 2, 'Williams, Mr. Charles Eugene', 'male', '', 0, 0)\n",
            "(21, 0, 2, 'Fynney, Mr. Joseph J', 'male', 35, 0, 0)\n",
            "(22, 1, 2, 'Beesley, Mr. Lawrence', 'male', 34, 0, 0)\n",
            "(34, 0, 2, 'Wheadon, Mr. Edward H', 'male', 66, 0, 0)\n",
            "(71, 0, 2, 'Jenkin, Mr. Stephen Curnow', 'male', 32, 0, 0)\n",
            "(73, 0, 2, 'Hood, Mr. Ambrose Jr', 'male', 21, 0, 0)\n",
            "(79, 1, 2, 'Caldwell, Master. Alden Gates', 'male', 0.83, 0, 2)\n",
            "(100, 0, 2, 'Kantor, Mr. Sinai', 'male', 34, 1, 0)\n",
            "(118, 0, 2, 'Turpin, Mr. William John Robert', 'male', 29, 1, 0)\n",
            "(121, 0, 2, 'Hickman, Mr. Stanley George', 'male', 21, 2, 0)\n",
            "(123, 0, 2, 'Nasser, Mr. Nicholas', 'male', 32.5, 1, 0)\n",
            "(135, 0, 2, 'Sobey, Mr. Samuel James Hayden', 'male', 25, 0, 0)\n",
            "(136, 0, 2, 'Richard, Mr. Emile', 'male', 23, 0, 0)\n",
            "(145, 0, 2, 'Andrew, Mr. Edgardo Samuel', 'male', 18, 0, 0)\n",
            "(146, 0, 2, 'Nicholls, Mr. Joseph Charles', 'male', 19, 1, 1)\n",
            "(149, 0, 2, \"Navratil, Mr. Michel ('Louis M Hoffman')\", 'male', 36.5, 0, 2)\n",
            "(150, 0, 2, 'Byles, Rev. Thomas Roussel Davids', 'male', 42, 0, 0)\n",
            "(151, 0, 2, 'Bateman, Rev. Robert James', 'male', 51, 0, 0)\n",
            "(179, 0, 2, 'Hale, Mr. Reginald', 'male', 30, 0, 0)\n",
            "(182, 0, 2, 'Pernot, Mr. Rene', 'male', '', 0, 0)\n",
            "(184, 1, 2, 'Becker, Master. Richard F', 'male', 1, 2, 1)\n",
            "(192, 0, 2, 'Carbines, Mr. William', 'male', 19, 0, 0)\n",
            "(194, 1, 2, 'Navratil, Master. Michel M', 'male', 3, 1, 1)\n",
            "(214, 0, 2, 'Givard, Mr. Hans Kristensen', 'male', 30, 0, 0)\n",
            "(218, 0, 2, 'Jacobsohn, Mr. Sidney Samuel', 'male', 42, 1, 0)\n",
            "(220, 0, 2, 'Harris, Mr. Walter', 'male', 30, 0, 0)\n",
            "(222, 0, 2, 'Bracken, Mr. James H', 'male', 27, 0, 0)\n",
            "(227, 1, 2, 'Mellors, Mr. William John', 'male', 19, 0, 0)\n",
            "(229, 0, 2, 'Fahlstrom, Mr. Arne Jonas', 'male', 18, 0, 0)\n",
            "(233, 0, 2, 'Sjostedt, Mr. Ernst Adolf', 'male', 59, 0, 0)\n",
            "(235, 0, 2, 'Leyson, Mr. Robert William Norman', 'male', 24, 0, 0)\n",
            "(237, 0, 2, 'Hold, Mr. Stephen', 'male', 44, 1, 0)\n",
            "(239, 0, 2, 'Pengelly, Mr. Frederick William', 'male', 19, 0, 0)\n",
            "(240, 0, 2, 'Hunt, Mr. George Henry', 'male', 33, 0, 0)\n",
            "(243, 0, 2, 'Coleridge, Mr. Reginald Charles', 'male', 29, 0, 0)\n",
            "(250, 0, 2, 'Carter, Rev. Ernest Courtenay', 'male', 54, 1, 0)\n",
            "(266, 0, 2, 'Reeves, Mr. David', 'male', 36, 0, 0)\n",
            "(278, 0, 2, \"Parkes, Mr. Francis 'Frank'\", 'male', '', 0, 0)\n",
            "(289, 1, 2, 'Hosono, Mr. Masabumi', 'male', 42, 0, 0)\n",
            "(293, 0, 2, 'Levy, Mr. Rene Jacques', 'male', 36, 0, 0)\n",
            "(309, 0, 2, 'Abelson, Mr. Samuel', 'male', 30, 1, 0)\n",
            "(315, 0, 2, 'Hart, Mr. Benjamin', 'male', 43, 1, 1)\n",
            "(318, 0, 2, 'Moraweck, Dr. Ernest', 'male', 54, 0, 0)\n",
            "(341, 1, 2, 'Navratil, Master. Edmond Roger', 'male', 2, 1, 1)\n",
            "(343, 0, 2, 'Collander, Mr. Erik Gustaf', 'male', 28, 0, 0)\n",
            "(344, 0, 2, 'Sedgwick, Mr. Charles Frederick Waddington', 'male', 25, 0, 0)\n",
            "(345, 0, 2, 'Fox, Mr. Stanley Hubert', 'male', 36, 0, 0)\n",
            "(362, 0, 2, 'del Carlo, Mr. Sebastiano', 'male', 29, 1, 0)\n",
            "(386, 0, 2, 'Davies, Mr. Charles Henry', 'male', 18, 0, 0)\n",
            "(398, 0, 2, 'McKane, Mr. Peter David', 'male', 46, 0, 0)\n",
            "(399, 0, 2, 'Pain, Dr. Alfred', 'male', 23, 0, 0)\n",
            "(406, 0, 2, 'Gale, Mr. Shadrach', 'male', 34, 1, 0)\n",
            "(408, 1, 2, 'Richards, Master. William Rowe', 'male', 3, 1, 1)\n",
            "(414, 0, 2, 'Cunningham, Mr. Alfred Fleming', 'male', '', 0, 0)\n",
            "(419, 0, 2, 'Matthews, Mr. William John', 'male', 30, 0, 0)\n",
            "(440, 0, 2, 'Kvillner, Mr. Johan Henrik Johannesson', 'male', 31, 0, 0)\n",
            "(451, 0, 2, 'West, Mr. Edwy Arthur', 'male', 36, 1, 2)\n",
            "(464, 0, 2, 'Milling, Mr. Jacob Christian', 'male', 48, 0, 0)\n",
            "(467, 0, 2, 'Campbell, Mr. William', 'male', '', 0, 0)\n",
            "(477, 0, 2, 'Renouf, Mr. Peter Henry', 'male', 34, 1, 0)\n",
            "(482, 0, 2, \"Frost, Mr. Anthony Wood 'Archie'\", 'male', '', 0, 0)\n",
            "(530, 0, 2, 'Hocking, Mr. Richard George', 'male', 23, 2, 1)\n",
            "(544, 1, 2, 'Beane, Mr. Edward', 'male', 32, 1, 0)\n",
            "(548, 1, 2, 'Padro y Manent, Mr. Julian', 'male', '', 0, 0)\n",
            "(550, 1, 2, 'Davies, Master. John Morgan Jr', 'male', 8, 1, 1)\n",
            "(552, 0, 2, 'Sharp, Mr. Percival James R', 'male', 27, 0, 0)\n",
            "(563, 0, 2, 'Norman, Mr. Robert Douglas', 'male', 28, 0, 0)\n",
            "(571, 1, 2, 'Harris, Mr. George', 'male', 62, 0, 0)\n",
            "(583, 0, 2, 'Downton, Mr. William James', 'male', 54, 0, 0)\n",
            "(587, 0, 2, 'Jarvis, Mr. John Denzil', 'male', 47, 0, 0)\n",
            "(595, 0, 2, 'Chapman, Mr. John Henry', 'male', 37, 1, 0)\n",
            "(620, 0, 2, 'Gavey, Mr. Lawrence', 'male', 26, 0, 0)\n",
            "(627, 0, 2, 'Kirkland, Rev. Charles Leonard', 'male', 57, 0, 0)\n",
            "(638, 0, 2, 'Collyer, Mr. Harvey', 'male', 31, 1, 1)\n",
            "(656, 0, 2, 'Hickman, Mr. Leonard Mark', 'male', 24, 2, 0)\n",
            "(659, 0, 2, 'Eitemiller, Mr. George Floyd', 'male', 23, 0, 0)\n",
            "(666, 0, 2, 'Hickman, Mr. Lewis', 'male', 32, 2, 0)\n",
            "(667, 0, 2, 'Butler, Mr. Reginald Fenton', 'male', 25, 0, 0)\n",
            "(673, 0, 2, 'Mitchell, Mr. Henry Michael', 'male', 70, 0, 0)\n",
            "(674, 1, 2, 'Wilhelms, Mr. Charles', 'male', 31, 0, 0)\n",
            "(675, 0, 2, 'Watson, Mr. Ennis Hastings', 'male', '', 0, 0)\n",
            "(685, 0, 2, 'Brown, Mr. Thomas William Solomon', 'male', 60, 1, 1)\n",
            "(686, 0, 2, 'Laroche, Mr. Joseph Philippe Lemercier', 'male', 25, 1, 2)\n",
            "(696, 0, 2, 'Chapman, Mr. Charles Henry', 'male', 52, 0, 0)\n",
            "(706, 0, 2, \"Morley, Mr. Henry Samuel ('Mr Henry Marshall')\", 'male', 39, 0, 0)\n",
            "(715, 0, 2, 'Greenberg, Mr. Samuel', 'male', 52, 0, 0)\n",
            "(723, 0, 2, 'Gillespie, Mr. William Henry', 'male', 34, 0, 0)\n",
            "(724, 0, 2, 'Hodges, Mr. Henry Price', 'male', 50, 0, 0)\n",
            "(729, 0, 2, 'Bryhl, Mr. Kurt Arnold Gottfrid', 'male', 25, 1, 0)\n",
            "(733, 0, 2, 'Knight, Mr. Robert J', 'male', '', 0, 0)\n",
            "(734, 0, 2, 'Berriman, Mr. William John', 'male', 23, 0, 0)\n",
            "(735, 0, 2, 'Troupiansky, Mr. Moses Aaron', 'male', 23, 0, 0)\n",
            "(756, 1, 2, 'Hamalainen, Master. Viljo', 'male', 0.67, 1, 1)\n",
            "(758, 0, 2, 'Bailey, Mr. Percy Andrew', 'male', 18, 0, 0)\n",
            "(792, 0, 2, 'Gaskell, Mr. Alfred', 'male', 16, 0, 0)\n",
            "(796, 0, 2, 'Otter, Mr. Richard', 'male', 39, 0, 0)\n",
            "(801, 0, 2, 'Ponesell, Mr. Martin', 'male', 34, 0, 0)\n",
            "(809, 0, 2, 'Meyer, Mr. August', 'male', 39, 0, 0)\n",
            "(813, 0, 2, 'Slemen, Mr. Richard James', 'male', 35, 0, 0)\n",
            "(818, 0, 2, 'Mallet, Mr. Albert', 'male', 31, 1, 1)\n",
            "(828, 1, 2, 'Mallet, Master. Andre', 'male', 1, 0, 2)\n",
            "(832, 1, 2, 'Richards, Master. George Sibley', 'male', 0.83, 1, 1)\n",
            "(842, 0, 2, 'Mudd, Mr. Thomas Charles', 'male', 16, 0, 0)\n",
            "(849, 0, 2, 'Harper, Rev. John', 'male', 28, 0, 1)\n",
            "(862, 0, 2, 'Giles, Mr. Frederick Edward', 'male', 21, 1, 0)\n",
            "(865, 0, 2, 'Gill, Mr. John William', 'male', 24, 0, 0)\n",
            "(884, 0, 2, 'Banfield, Mr. Frederick James', 'male', 28, 0, 0)\n",
            "(887, 0, 2, 'Montvila, Rev. Juozas', 'male', 27, 0, 0)\n"
          ],
          "name": "stdout"
        }
      ]
    },
    {
      "cell_type": "markdown",
      "metadata": {
        "id": "Bzzi-BaoXycZ"
      },
      "source": [
        "### TAREFA 09\n",
        "1. Conte quantos passageiros existem por sexo.\n",
        "\n",
        "**DICA**: Use GROUP BY e COUNT()."
      ]
    },
    {
      "cell_type": "code",
      "metadata": {
        "colab": {
          "base_uri": "https://localhost:8080/"
        },
        "id": "31dYY9-EXycZ",
        "outputId": "c2546ed1-b357-4dff-8b59-5cb8f4e94c22"
      },
      "source": [
        "# Insira seu código aqui\n",
        "consulta = \"\"\"SELECT sex, count() FROM passageiros GROUP BY sex\"\"\"\n",
        "executa_consulta(consulta)"
      ],
      "execution_count": null,
      "outputs": [
        {
          "output_type": "stream",
          "text": [
            "('female', 314)\n",
            "('male', 577)\n"
          ],
          "name": "stdout"
        }
      ]
    },
    {
      "cell_type": "markdown",
      "metadata": {
        "id": "-LeYMBB0XycZ"
      },
      "source": [
        "### TAREFA 10\n",
        "1. Verifique o valor médio das passagens em cada porto de embarque\n",
        "\n",
        "**DICA**: Use GROUP BY e AVG(). A presença de valores missing pode apresentar alguns resultados estranhos."
      ]
    },
    {
      "cell_type": "code",
      "metadata": {
        "colab": {
          "base_uri": "https://localhost:8080/"
        },
        "id": "PMO5Qb_pXycZ",
        "outputId": "cb256270-0270-40a1-c918-051022b09f3a"
      },
      "source": [
        "# Insira seu código aqui\n",
        "consulta = \"\"\"SELECT embarked, avg(Fare) from passagens group by embarked\"\"\"\n",
        "executa_consulta(consulta)"
      ],
      "execution_count": null,
      "outputs": [
        {
          "output_type": "stream",
          "text": [
            "('', 80.0)\n",
            "('C', 12709.34566190476)\n",
            "('Q', 2002.8429129870128)\n",
            "('S', 2015.3069857142902)\n"
          ],
          "name": "stdout"
        }
      ]
    },
    {
      "cell_type": "markdown",
      "metadata": {
        "id": "6yrR6T52XycZ"
      },
      "source": [
        "### TAREFA 11\n",
        "1. Selecione o nome (Name), sexo(Sex) e tarifa(Fare) paga de 5 passageiros\n",
        "2. Utilize as tabelas passageiros e passagens.\n",
        "\n",
        "**DICA**: Use JOIN."
      ]
    },
    {
      "cell_type": "code",
      "metadata": {
        "colab": {
          "base_uri": "https://localhost:8080/"
        },
        "id": "hJj531iGXycZ",
        "outputId": "da85f97f-494f-4e20-e3e6-d35a5d791448"
      },
      "source": [
        "# Insira seu código aqui\n",
        "# Insira seu código aqui\n",
        "consulta = \"\"\"SELECT name, sex, fare\n",
        " FROM passageiros \n",
        " INNER JOIN passagens \n",
        " ON passageiros.PassengerId = passagens.PassengerId LIMIT 5\"\"\"\n",
        "executa_consulta(consulta)"
      ],
      "execution_count": null,
      "outputs": [
        {
          "output_type": "stream",
          "text": [
            "('Braund, Mr. Owen Harris', 'male', 7.25)\n",
            "('Cumings, Mrs. John Bradley (Florence Briggs Thayer)', 'female', 71.2833)\n",
            "('Heikkinen, Miss. Laina', 'female', 7925)\n",
            "('Futrelle, Mrs. Jacques Heath (Lily May Peel)', 'female', 53.1)\n",
            "('Allen, Mr. William Henry', 'male', 8.05)\n"
          ],
          "name": "stdout"
        }
      ]
    },
    {
      "cell_type": "markdown",
      "metadata": {
        "id": "3_4hXftLXyca"
      },
      "source": [
        "### TAREFA 12\n",
        "1. Selecione o valor máximo (Fare) das passagens por classe."
      ]
    },
    {
      "cell_type": "code",
      "metadata": {
        "colab": {
          "base_uri": "https://localhost:8080/"
        },
        "id": "gbWv5GlgXyca",
        "outputId": "343b2c57-1508-4a7d-dbdb-c392faa0fcf7"
      },
      "source": [
        "# Insira seu código aqui\n",
        "consulta = \"\"\"SELECT  fare, pclass, MAX(Fare)\n",
        "              FROM passagens\n",
        "              INNER JOIN passageiros\n",
        "              on passagens.PassengerId = passageiros.PassengerId\n",
        "              GROUP BY Pclass\"\"\"\n",
        "executa_consulta(consulta)"
      ],
      "execution_count": null,
      "outputs": [
        {
          "output_type": "stream",
          "text": [
            "(262375, 1, 262375)\n",
            "(12875, 2, 12875)\n",
            "(34375, 3, 34375)\n"
          ],
          "name": "stdout"
        }
      ]
    },
    {
      "cell_type": "markdown",
      "metadata": {
        "id": "67X2vvvzXyca"
      },
      "source": [
        "### TAREFA 13\n",
        "1. Descubra quantas pessoas embarcaram por porto\n",
        "2. Agrupando por porto e sexo."
      ]
    },
    {
      "cell_type": "code",
      "metadata": {
        "colab": {
          "base_uri": "https://localhost:8080/"
        },
        "id": "tmzcnaVKXyca",
        "outputId": "9d2b1de0-272c-487a-85a3-a6c1e1311dab"
      },
      "source": [
        "# Insira seu código aqui\n",
        "consulta = \"\"\"SELECT  Embarked, Sex, COUNT()\n",
        "              FROM passagens as A\n",
        "              INNER JOIN passageiros as B\n",
        "              on A.PassengerId = B.PassengerId\n",
        "              GROUP BY Embarked, sex\"\"\"\n",
        "executa_consulta(consulta)"
      ],
      "execution_count": null,
      "outputs": [
        {
          "output_type": "stream",
          "text": [
            "('', 'female', 2)\n",
            "('C', 'female', 73)\n",
            "('C', 'male', 95)\n",
            "('Q', 'female', 36)\n",
            "('Q', 'male', 41)\n",
            "('S', 'female', 203)\n",
            "('S', 'male', 441)\n"
          ],
          "name": "stdout"
        }
      ]
    },
    {
      "cell_type": "markdown",
      "metadata": {
        "id": "bzwhbZ3aXyca"
      },
      "source": [
        "## 3. Conclusão\n",
        "\n",
        "A quantidade de consultas e a lista de comandos SQL é enorme. A interação foi somente relembrar alguns comandos básicos para que você se sinta confortável para explorar qualquer banco de dados SQL que você encontrar.\n"
      ]
    },
    {
      "cell_type": "markdown",
      "metadata": {
        "id": "ayntxkuSXyca"
      },
      "source": [
        "### Awari -  <a href=\"https://awari.com.br/\"> awari.com.br</a>"
      ]
    }
  ]
}